{
 "cells": [
  {
   "cell_type": "markdown",
   "id": "e0c7b14a-e5aa-4abc-b48b-b8a9d20dacac",
   "metadata": {
    "id": "e0c7b14a-e5aa-4abc-b48b-b8a9d20dacac"
   },
   "source": [
    "# Assignment: Linear Models\n",
    "## Do two questions in total: \"Q1+Q2\" or \"Q1+Q3\"\n",
    "### `! git clone https://github.com/ds3001f25/linear_models_assignment.git`"
   ]
  },
  {
   "cell_type": "markdown",
   "id": "ca1cfba3",
   "metadata": {
    "vscode": {
     "languageId": "plaintext"
    }
   },
   "source": [
    "**Q1.** Let's explore multiple linear regression in a two-variable case, to build more intuition about what is happening.\n",
    "\n",
    "Suppose the model is \n",
    "$$\n",
    "\\hat{y}_i = b_0 + b_1 z_{i1} + b_2 z_{i2}\n",
    "$$\n",
    "Assume that $z_{ij}$ is centered or de-meaned, so that $z_{ij} = x_{ij} - m_j$ where $m_j$ is the mean of variable $j$ and $x_{ij}$ is the original value of variable $j$ for observation $i$. Notice that this implies\n",
    "$$\n",
    "\\dfrac{1}{N} \\sum_{i=1}^N z_{ij} = 0\n",
    "$$\n",
    "which will simplify your calculations below substantially!\n",
    "\n",
    "1. Write down the SSE for this model.\n",
    "2. Take partial derivatives with respect to $b_0$, $b_1$, and $b_2$.\n",
    "3. Verify that the average error is zero and $e \\cdot z =0$ at the optimum, just as in the single linear regression case.\n",
    "4. Show that the optimal intercept is $b_0^* = \\bar{y}$. Eliminate $b_0^*$ from the remaining equations, and focus on $b_1$ and $b_2$.\n",
    "5. Write your results as a matrix equation in the form \"$Ab=C$\". These are called the **normal equations**.\n",
    "6. Divide both sides by $N$ and substitute $z_{ij} = x_{ij} - m_j$ back into your normal equations for $x_{ij}$. What is the matrix $A$? What is the vector $C$? Explain the intuition of your discovery."
   ]
  },
  {
   "cell_type": "markdown",
   "id": "310d558f-e82b-4f69-bdf8-c21d63222400",
   "metadata": {},
   "source": [
    "Answers can be seen in Linear Models PDF in GitHub repository."
   ]
  },
  {
   "cell_type": "markdown",
   "id": "95f22300-0180-4ed2-be8f-ed56cf4cd36b",
   "metadata": {
    "id": "95f22300-0180-4ed2-be8f-ed56cf4cd36b"
   },
   "source": [
    "**Q2.** This question is a case study for linear models. The data are about car prices. In particular, they include:\n",
    "\n",
    "  - `Price`, `Color`, `Seating_Capacity`\n",
    "  - `Body_Type`: crossover, hatchback, muv, sedan, suv\n",
    "  - `Make`, `Make_Year`: The brand of car and year produced\n",
    "  - `Mileage_Run`: The number of miles on the odometer\n",
    "  - `Fuel_Type`: Diesel or gasoline/petrol\n",
    "  - `Transmission`, `Transmission_Type`:  speeds and automatic/manual\n",
    "\n",
    "  1. Load `cars_hw.csv`. These data were really dirty, and I've already cleaned them a significant amount in terms of missing values and other issues, but some issues remain (e.g. outliers, badly scaled variables that require a log or arcsinh transformation). Clean the data however you think is most appropriate.\n",
    "  2. Summarize the `Price` variable and create a kernel density plot. Use `.groupby()` and `.describe()` to summarize prices by brand (`Make`). Make a grouped kernel density plot by `Make`. Which car brands are the most expensive? What do prices look like in general?\n",
    "  3. Split the data into an 80% training set and a 20% testing set.\n",
    "  4. Make a model where you regress price on the numeric variables alone; what is the $R^2$ and `RMSE` on the training set and test set? Make a second model where, for the categorical variables, you regress price on a model comprised of one-hot encoded regressors/features alone (you can use `pd.get_dummies()`; be careful of the dummy variable trap); what is the $R^2$ and `RMSE` on the test set? Which model performs better on the test set? Make a third model that combines all the regressors from the previous two; what is the $R^2$ and `RMSE` on the test set? Does the joint model perform better or worse, and by home much?\n",
    "  5. Use the `PolynomialFeatures` function from `sklearn` to expand the set of numerical variables you're using in the regression. As you increase the degree of the expansion, how do the $R^2$ and `RMSE` change? At what point does $R^2$ go negative on the test set? For your best model with expanded features, what is the $R^2$ and `RMSE`? How does it compare to your best model from part 4?\n",
    "  6. For your best model so far, determine the predicted values for the test data and plot them against the true values. Do the predicted values and true values roughly line up along the diagonal, or not? Compute the residuals/errors for the test data and create a kernel density plot. Do the residuals look roughly bell-shaped around zero? Evaluate the strengths and weaknesses of your model."
   ]
  },
  {
   "cell_type": "code",
   "execution_count": null,
   "id": "0acc2b86",
   "metadata": {},
   "outputs": [],
   "source": []
  },
  {
   "cell_type": "markdown",
   "id": "aedcd486",
   "metadata": {},
   "source": [
    "**Q3.** This question refers to the `heart_hw.csv` data. It contains three variables:\n",
    "\n",
    "  - `y`: Whether the individual survived for three years, coded 0 for death and 1 for survival\n",
    "  - `age`: Patient's age\n",
    "  - `transplant`: `control` for not receiving a transplant and `treatment` for receiving a transplant\n",
    "\n",
    "Since a heart transplant is a dangerous operation and even people who successfully get heart transplants might suffer later complications, we want to look at whether a group of transplant recipients tends to survive longer than a comparison group who does not get the procedure.\n",
    "\n",
    "1. Compute (a) the proportion of people who survive in the control group who do not receive a transplant, and (b) the difference between the proportion of people who survive in the treatment group and the proportion of people who survive in the control group. In a randomized controlled trial, this is called the **average treatment effect**.\n",
    "2. Regress `y` on `transplant` using a linear model with a constant. How does the constant/intercept of the regression and the coefficient on transplant compare to your answers from part 1? Explain the relationship clearly.\n",
    "3. We'd like to include `age` in the regression, since it's reasonable to expect that older patients are less likely to survive an extensive surgery like a heart transplant. Regress `y` on a constant, transplant, and age. How does the intercept change?\n",
    "4. Build a more flexible model that allows for non-linear age effects and interactions between age and treatment. Use a train-test split to validate your model. Estimate your best model, predict the survival probability by age, and plot your results conditional on receiving a transplant and not. Describe what you see.\n",
    "5. Imagine someone suggests using these kinds of models to select who receives organ transplants; perhaps the CDC or NIH starts using a scoring algorithm to decide who is contacted about a potential organ. What are your concerns about how it is built and how it is deployed?"
   ]
  },
  {
   "cell_type": "code",
   "execution_count": 1,
   "id": "d9b3a79a",
   "metadata": {},
   "outputs": [],
   "source": [
    "import numpy as np\n",
    "import pandas as pd\n",
    "import matplotlib.pyplot as plt\n",
    "from sklearn.linear_model import LinearRegression\n",
    "from sklearn.model_selection import train_test_split"
   ]
  },
  {
   "cell_type": "code",
   "execution_count": 2,
   "id": "8c7e0959-caa2-438e-932f-bba3a7496afa",
   "metadata": {},
   "outputs": [
    {
     "data": {
      "text/html": [
       "<div>\n",
       "<style scoped>\n",
       "    .dataframe tbody tr th:only-of-type {\n",
       "        vertical-align: middle;\n",
       "    }\n",
       "\n",
       "    .dataframe tbody tr th {\n",
       "        vertical-align: top;\n",
       "    }\n",
       "\n",
       "    .dataframe thead th {\n",
       "        text-align: right;\n",
       "    }\n",
       "</style>\n",
       "<table border=\"1\" class=\"dataframe\">\n",
       "  <thead>\n",
       "    <tr style=\"text-align: right;\">\n",
       "      <th></th>\n",
       "      <th>Unnamed: 0</th>\n",
       "      <th>age</th>\n",
       "      <th>transplant</th>\n",
       "      <th>y</th>\n",
       "    </tr>\n",
       "  </thead>\n",
       "  <tbody>\n",
       "    <tr>\n",
       "      <th>0</th>\n",
       "      <td>1</td>\n",
       "      <td>53</td>\n",
       "      <td>control</td>\n",
       "      <td>0</td>\n",
       "    </tr>\n",
       "    <tr>\n",
       "      <th>1</th>\n",
       "      <td>2</td>\n",
       "      <td>43</td>\n",
       "      <td>control</td>\n",
       "      <td>0</td>\n",
       "    </tr>\n",
       "    <tr>\n",
       "      <th>2</th>\n",
       "      <td>3</td>\n",
       "      <td>52</td>\n",
       "      <td>control</td>\n",
       "      <td>0</td>\n",
       "    </tr>\n",
       "    <tr>\n",
       "      <th>3</th>\n",
       "      <td>4</td>\n",
       "      <td>52</td>\n",
       "      <td>control</td>\n",
       "      <td>0</td>\n",
       "    </tr>\n",
       "    <tr>\n",
       "      <th>4</th>\n",
       "      <td>5</td>\n",
       "      <td>54</td>\n",
       "      <td>control</td>\n",
       "      <td>0</td>\n",
       "    </tr>\n",
       "  </tbody>\n",
       "</table>\n",
       "</div>"
      ],
      "text/plain": [
       "   Unnamed: 0  age transplant  y\n",
       "0           1   53    control  0\n",
       "1           2   43    control  0\n",
       "2           3   52    control  0\n",
       "3           4   52    control  0\n",
       "4           5   54    control  0"
      ]
     },
     "execution_count": 2,
     "metadata": {},
     "output_type": "execute_result"
    }
   ],
   "source": [
    "df = pd.read_csv('./data/heart_hw.csv')\n",
    "df.head()"
   ]
  },
  {
   "cell_type": "markdown",
   "id": "8aeb1c3f-af18-42e7-a416-29a68ffa04c3",
   "metadata": {},
   "source": [
    "**1.**"
   ]
  },
  {
   "cell_type": "code",
   "execution_count": 3,
   "id": "3f311da8-16e3-4b3c-8319-0a264a9eb079",
   "metadata": {},
   "outputs": [
    {
     "name": "stdout",
     "output_type": "stream",
     "text": [
      "Control survival proportion: 0.11764705882352941\n",
      "Average Treatment Effect (ATE): 0.23017902813299232\n"
     ]
    }
   ],
   "source": [
    "control = df.loc[df['transplant'] == 'control', 'y'].mean()\n",
    "\n",
    "treatment = df.loc[df['transplant'] == 'treatment', 'y'].mean()\n",
    "ate = treatment - control\n",
    "\n",
    "print(\"Control survival proportion:\", control)\n",
    "print(\"Average Treatment Effect (ATE):\", ate)"
   ]
  },
  {
   "cell_type": "markdown",
   "id": "aa98a4de-cc10-4b1e-be70-eeb1c7ad6ff7",
   "metadata": {},
   "source": [
    "**2.**"
   ]
  },
  {
   "cell_type": "code",
   "execution_count": 4,
   "id": "c7f36240-b43a-4ba5-bb8f-5e9ac94a082b",
   "metadata": {},
   "outputs": [
    {
     "name": "stdout",
     "output_type": "stream",
     "text": [
      "0.11764705882352933\n",
      "[0.23017903]\n",
      "0.059188892948483174\n"
     ]
    }
   ],
   "source": [
    "y = df['y']\n",
    "\n",
    "dummies = pd.get_dummies(df['transplant'], dtype='int')\n",
    "X = dummies[['treatment']]\n",
    "\n",
    "reg = LinearRegression().fit(X, y)\n",
    "print(reg.intercept_)\n",
    "print(reg.coef_)\n",
    "print(reg.score(X, y))"
   ]
  },
  {
   "cell_type": "markdown",
   "id": "e358e0bc-558e-4ca9-a9ed-0f6471b27332",
   "metadata": {},
   "source": [
    "The intercept of the regression matches that of the control survival proportion from question 1. Additionally, the coefficient matches the ATE found in question 1. This is because the simple regression of y on treatment with an intercept reproduces the group means and their differences. In other words, the constant term is the mean outcome when treatment is equal to 0, the control group's survival rate, and the slope on the treatment is the difference between the treatment mean and the control mean. "
   ]
  },
  {
   "cell_type": "markdown",
   "id": "4fef413b-67b4-4880-8233-d98ec30c809a",
   "metadata": {},
   "source": [
    "**3.**"
   ]
  },
  {
   "cell_type": "code",
   "execution_count": 5,
   "id": "5ece661c-31a2-4305-96d9-90f966c9415a",
   "metadata": {},
   "outputs": [
    {
     "name": "stdout",
     "output_type": "stream",
     "text": [
      "0.7019569721740946\n",
      "Treatment Coef: 0.2647016865036751\n",
      "Age Coef: -0.013607217160218645\n",
      "0.1467806594163431\n"
     ]
    }
   ],
   "source": [
    "y = df['y']\n",
    "\n",
    "X = pd.concat([dummies['treatment'], df['age']], axis=1)\n",
    "\n",
    "reg = LinearRegression().fit(X, y)\n",
    "print(reg.intercept_)\n",
    "print(\"Treatment Coef:\", reg.coef_[0])\n",
    "print(\"Age Coef:\", reg.coef_[1])\n",
    "print(reg.score(X, y))"
   ]
  },
  {
   "cell_type": "markdown",
   "id": "a5a5d78d-d8f2-498d-aaee-065b811b195f",
   "metadata": {},
   "source": [
    "The intercept changes dramatically from 0.118 to 0.702. This change happens because of the addition of age in which the intercept now represents the predicted surval for control group at age equal to 0, proving no longer meaningful."
   ]
  },
  {
   "cell_type": "markdown",
   "id": "f7ece23c-028b-4fcb-b766-282c1172962a",
   "metadata": {},
   "source": [
    "**4.**"
   ]
  },
  {
   "cell_type": "code",
   "execution_count": 6,
   "id": "88399bd9-14b1-461d-b8ee-03c2fda0240f",
   "metadata": {},
   "outputs": [
    {
     "name": "stdout",
     "output_type": "stream",
     "text": [
      "Train R^2: 0.1483846482032678\n",
      "Test R^2: 0.28269000410983214\n"
     ]
    },
    {
     "data": {
      "image/png": "[encoded data removed]",
      "text/plain": [
       "<Figure size 700x500 with 1 Axes>"
      ]
     },
     "metadata": {},
     "output_type": "display_data"
    }
   ],
   "source": [
    "# mlr function from class\n",
    "def mlr(X,y): \n",
    "    XpX = X.T@X \n",
    "    Xpy = X.T@y \n",
    "    b = np.linalg.solve(XpX, Xpy)\n",
    "    y_hat = X@b \n",
    "    residuals = y-y_hat \n",
    "    SSE =  np.inner(residuals,residuals)\n",
    "    rsq = 1 - SSE/np.inner( y-np.mean(y),y-np.mean(y))\n",
    "    return({'b':b,'y_hat':y_hat,'residuals':residuals,'rsq':rsq,'SSE':SSE})\n",
    "    \n",
    "y = df['y']\n",
    "\n",
    "df['age_sq'] = df['age']**2\n",
    "df['treat_age'] = dummies['treatment'] * df['age']\n",
    "df['(Intercept)'] = 1\n",
    "\n",
    "vars = ['(Intercept)', 'treatment', 'age', 'age_sq', 'treat_age']\n",
    "X = pd.concat([dummies['treatment'], df[['(Intercept)','age','age_sq','treat_age']]], axis=1)\n",
    "X.columns = ['treatment','(Intercept)','age','age_sq','treat_age']\n",
    "\n",
    "X_train, X_test, y_train, y_test = train_test_split(X,\n",
    "                                                    y,\n",
    "                                                    test_size=0.2, \n",
    "                                                    random_state=65)\n",
    "\n",
    "# fit on training data\n",
    "reg = mlr(X_train, y_train)   \n",
    "print(\"Train R^2:\", reg['rsq'])\n",
    "\n",
    "# validate on test data\n",
    "b = reg['b'] \n",
    "yhat_test = X_test.values @ b\n",
    "SSE = np.inner(y_test - yhat_test, y_test - yhat_test)\n",
    "rsq_test = 1 - SSE / np.inner(y_test - np.mean(y_test), y_test - np.mean(y_test))\n",
    "print(\"Test R^2:\", rsq_test)\n",
    "\n",
    "# predicted survival by age plot\n",
    "age_grid = np.linspace(df['age'].min(), df['age'].max(), 200)\n",
    "\n",
    "plt.figure(figsize=(7,5))\n",
    "\n",
    "for t in [0,1]:\n",
    "    grid = pd.DataFrame({\n",
    "        '(Intercept)': 1.0,\n",
    "        'treatment': t,\n",
    "        'age': age_grid\n",
    "    })\n",
    "    grid['age_sq'] = grid['age']**2\n",
    "    grid['treat_age'] = grid['treatment'] * grid['age']\n",
    "    grid = grid.loc[:, vars]\n",
    "\n",
    "    p = grid.values @ b\n",
    "    p = np.clip(p, 0, 1)\n",
    "    \n",
    "    label = \"Treatment\" if t==1 else \"Control\"\n",
    "    plt.plot(age_grid, p, label=label)\n",
    "\n",
    "plt.xlabel(\"Age\")\n",
    "plt.ylabel(\"Predicted survival probability\")\n",
    "plt.title(\"Predicted survival vs Age by Treatment\")\n",
    "plt.legend()\n",
    "plt.grid(True)\n",
    "plt.show()"
   ]
  },
  {
   "cell_type": "markdown",
   "id": "314ec521-ef8c-4ac1-8538-bf0da6e62aa6",
   "metadata": {},
   "source": [
    "It can be seen that within the above non-linear predictive plot, there is a gap between the two curves, one representing control and the other representing treatment. Those that are within the control, have a higher prediced survival and the gap between the two begins narrow with early age, but wides as age increases to the peak. It can be seen that both initially rise in survival probablity, peaking in early adulthood, mid-20s to 30s, and then declines as patients get older. All in all, this suggests that the apparent benefit of transplant is not constant as age strongly reduces survival probability."
   ]
  },
  {
   "cell_type": "markdown",
   "id": "467ae80d-1105-4184-9f62-83210afde0a9",
   "metadata": {},
   "source": [
    "**5.**"
   ]
  },
  {
   "cell_type": "markdown",
   "id": "fe8a3f6b-afdf-4070-bde3-be22d3c78679",
   "metadata": {},
   "source": [
    "My concerns with how the model is built is where the data is coming from. More specificlaly, I am concerned about the historical bias that may be present within the data such that it is a reflection of systemic inequalities in access to care, insurance status, race, or socioeconomic conditions. Additionally, will the model be prioritizing short-term survival, ignoring important factors such as quality of life, patient values, and fairness in distributing organs. These challences pose risks in amplify historical disparities that may not be known to the user on why someone is prioritized or denied. All in all, there are ethical concerns of having a model make a life or death decision without the use of human judgement."
   ]
  }
 ],
 "metadata": {
  "colab": {
   "provenance": []
  },
  "kernelspec": {
   "display_name": "Python 3 (ipykernel)",
   "language": "python",
   "name": "python3"
  },
  "language_info": {
   "codemirror_mode": {
    "name": "ipython",
    "version": 3
   },
   "file_extension": ".py",
   "mimetype": "text/x-python",
   "name": "python",
   "nbconvert_exporter": "python",
   "pygments_lexer": "ipython3",
   "version": "3.12.7"
  }
 },
 "nbformat": 4,
 "nbformat_minor": 5
}
